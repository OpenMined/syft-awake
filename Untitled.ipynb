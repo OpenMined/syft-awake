{
 "cells": [
  {
   "cell_type": "code",
   "execution_count": 1,
   "id": "7bcd7d27-3fe3-40db-84de-90ca63ad830a",
   "metadata": {},
   "outputs": [],
   "source": [
    "import syft_awake as sa"
   ]
  },
  {
   "cell_type": "code",
   "execution_count": 2,
   "id": "d87ec627-ff1b-430a-a2b5-83bdee0b6d8f",
   "metadata": {},
   "outputs": [
    {
     "data": {
      "text/html": [
       "\n",
       "    <div style=\"border: 2px solid #007ACC; border-radius: 8px; padding: 20px; background-color: #f0f8ff; font-family: Arial, sans-serif;\">\n",
       "        <h2 style=\"color: #007ACC; margin-top: 0;\">🌐 Syft Awake v0.2.4</h2>\n",
       "        <p style=\"color: #333; font-size: 16px;\">Network awakeness monitoring for SyftBox</p>\n",
       "        <div style=\"margin-top: 15px;\">\n",
       "            <h3 style=\"color: #005999;\">Available Functions:</h3>\n",
       "            <ul style=\"list-style-type: none; padding-left: 0;\">\n",
       "                <li style=\"margin: 8px 0;\">\n",
       "                    <code style=\"background-color: #e8f4f8; padding: 4px 8px; border-radius: 4px;\">ping_user(email)</code> \n",
       "                    - Check if a specific user is online\n",
       "                </li>\n",
       "                <li style=\"margin: 8px 0;\">\n",
       "                    <code style=\"background-color: #e8f4f8; padding: 4px 8px; border-radius: 4px;\">ping_network()</code> \n",
       "                    - Check status of all network members\n",
       "                </li>\n",
       "            </ul>\n",
       "        </div>\n",
       "        <div style=\"margin-top: 15px; font-size: 14px; color: #666;\">\n",
       "            <em>Fast, secure awakeness monitoring for the SyftBox network</em>\n",
       "        </div>\n",
       "    </div>\n",
       "    "
      ],
      "text/plain": [
       "<module 'syft_awake' from '/Users/atrask/Documents/GitHub/syft-awake/src/syft_awake/__init__.py'>"
      ]
     },
     "execution_count": 2,
     "metadata": {},
     "output_type": "execute_result"
    }
   ],
   "source": [
    "sa"
   ]
  },
  {
   "cell_type": "code",
   "execution_count": 6,
   "id": "1d788bab-6a3f-48a7-aaf5-879dd902fc13",
   "metadata": {},
   "outputs": [
    {
     "data": {
      "text/plain": [
       "[AwakeResponse(responder='ionesio@openmined.org', status=<AwakeStatus.AWAKE: 'awake'>, message=\"I'm awake and ready to help!\", timestamp=datetime.datetime(2025, 7, 12, 22, 17, 6, 361644, tzinfo=TzInfo(UTC)), available_until=None, response_time_ms=0.2720355987548828, workload='light', capabilities={'queries': True, 'collaboration': True, 'data_processing': True}, country=None)]"
      ]
     },
     "execution_count": 6,
     "metadata": {},
     "output_type": "execute_result"
    }
   ],
   "source": [
    "sa.ping_network(timeout=1)"
   ]
  },
  {
   "cell_type": "code",
   "execution_count": null,
   "id": "b8f25529-423f-4818-98d3-89310f7e5168",
   "metadata": {},
   "outputs": [],
   "source": []
  }
 ],
 "metadata": {
  "kernelspec": {
   "display_name": "Python 3 (ipykernel)",
   "language": "python",
   "name": "python3"
  },
  "language_info": {
   "codemirror_mode": {
    "name": "ipython",
    "version": 3
   },
   "file_extension": ".py",
   "mimetype": "text/x-python",
   "name": "python",
   "nbconvert_exporter": "python",
   "pygments_lexer": "ipython3",
   "version": "3.12.7"
  }
 },
 "nbformat": 4,
 "nbformat_minor": 5
}
