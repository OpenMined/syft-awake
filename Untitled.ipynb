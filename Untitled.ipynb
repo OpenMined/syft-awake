{
 "cells": [
  {
   "cell_type": "code",
   "execution_count": 1,
   "id": "7bcd7d27-3fe3-40db-84de-90ca63ad830a",
   "metadata": {},
   "outputs": [],
   "source": [
    "import syft_awake as sa"
   ]
  },
  {
   "cell_type": "code",
   "execution_count": 2,
   "id": "d87ec627-ff1b-430a-a2b5-83bdee0b6d8f",
   "metadata": {},
   "outputs": [
    {
     "data": {
      "text/plain": [
       "<module 'syft_awake' from '/Users/atrask/Documents/GitHub/syft-awake/src/syft_awake/__init__.py'>"
      ]
     },
     "execution_count": 2,
     "metadata": {},
     "output_type": "execute_result"
    }
   ],
   "source": [
    "sa"
   ]
  },
  {
   "cell_type": "code",
   "execution_count": null,
   "id": "1d788bab-6a3f-48a7-aaf5-879dd902fc13",
   "metadata": {},
   "outputs": [],
   "source": []
  }
 ],
 "metadata": {
  "kernelspec": {
   "display_name": "Python 3 (ipykernel)",
   "language": "python",
   "name": "python3"
  },
  "language_info": {
   "codemirror_mode": {
    "name": "ipython",
    "version": 3
   },
   "file_extension": ".py",
   "mimetype": "text/x-python",
   "name": "python",
   "nbconvert_exporter": "python",
   "pygments_lexer": "ipython3",
   "version": "3.12.7"
  }
 },
 "nbformat": 4,
 "nbformat_minor": 5
}
