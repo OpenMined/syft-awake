{
 "cells": [
  {
   "cell_type": "code",
   "execution_count": 1,
   "id": "7bcd7d27-3fe3-40db-84de-90ca63ad830a",
   "metadata": {},
   "outputs": [],
   "source": [
    "import syft_awake as sa"
   ]
  },
  {
   "cell_type": "code",
   "execution_count": 2,
   "id": "9014f83e-2298-4173-88e2-13d2e3790c90",
   "metadata": {},
   "outputs": [
    {
     "data": {
      "text/plain": [
       "'0.2.6'"
      ]
     },
     "execution_count": 2,
     "metadata": {},
     "output_type": "execute_result"
    }
   ],
   "source": [
    "sa.__version__"
   ]
  },
  {
   "cell_type": "code",
   "execution_count": 3,
   "id": "d87ec627-ff1b-430a-a2b5-83bdee0b6d8f",
   "metadata": {},
   "outputs": [
    {
     "data": {
      "text/html": [
       "\n",
       "        <div style=\"font-family: -apple-system, BlinkMacSystemFont, 'Segoe UI', Roboto, sans-serif; background: #ffffff;\">\n",
       "            <div style=\"border: 1px solid #e5e7eb; border-radius: 0.375rem; overflow: hidden;\">\n",
       "                <div style=\"background: #fee2e2; padding: 1rem 1.25rem; text-align: center;\">\n",
       "                    <h3 style=\"color: #991b1b; margin: 0;\">Network Status Unavailable</h3>\n",
       "                    <p style=\"color: #7f1d1d; margin-top: 0.5rem; font-size: 0.875rem;\">Unable to fetch network status. Please check your SyftBox connection.</p>\n",
       "                </div>\n",
       "                <div style=\"background: #f3f4f6; padding: 1rem 1.25rem; border-top: 1px solid #e5e7eb;\">\n",
       "                    <h3 style=\"font-size: 1rem; font-weight: 600; color: #111827; margin-bottom: 0.75rem;\">Available Functions:</h3>\n",
       "                    <div style=\"display: flex; flex-direction: column; gap: 0.5rem;\">\n",
       "                        <div>\n",
       "                            <code style=\"background-color: #e5e7eb; padding: 0.25rem 0.5rem; border-radius: 0.25rem; font-family: monospace; font-size: 0.875rem;\">ping_user(email)</code>\n",
       "                            <span style=\"color: #6b7280; margin-left: 0.5rem;\">- Check if a specific user is online</span>\n",
       "                        </div>\n",
       "                        <div>\n",
       "                            <code style=\"background-color: #e5e7eb; padding: 0.25rem 0.5rem; border-radius: 0.25rem; font-family: monospace; font-size: 0.875rem;\">ping_network()</code>\n",
       "                            <span style=\"color: #6b7280; margin-left: 0.5rem;\">- Check status of all network members</span>\n",
       "                        </div>\n",
       "                    </div>\n",
       "                </div>\n",
       "            </div>\n",
       "        </div>\n",
       "        "
      ],
      "text/plain": [
       "<module 'syft_awake' from '/Users/atrask/Documents/GitHub/syft-awake/src/syft_awake/__init__.py'>"
      ]
     },
     "execution_count": 3,
     "metadata": {},
     "output_type": "execute_result"
    }
   ],
   "source": [
    "sa"
   ]
  },
  {
   "cell_type": "code",
   "execution_count": 4,
   "id": "1d788bab-6a3f-48a7-aaf5-879dd902fc13",
   "metadata": {},
   "outputs": [
    {
     "data": {
      "text/plain": [
       "[AwakeResponse(responder='andrew@openmined.org', status=<AwakeStatus.AWAKE: 'awake'>, message=\"I'm awake and ready to help!\", timestamp=datetime.datetime(2025, 7, 12, 22, 32, 20, 631566, tzinfo=TzInfo(UTC)), available_until=None, response_time_ms=0.06079673767089844, workload='light', capabilities={'queries': True, 'collaboration': True, 'data_processing': True}, country=None),\n",
       " AwakeResponse(responder='tauquir@openmined.org', status=<AwakeStatus.AWAKE: 'awake'>, message=\"I'm awake and ready to help!\", timestamp=datetime.datetime(2025, 7, 12, 22, 32, 20, 862463, tzinfo=TzInfo(UTC)), available_until=None, response_time_ms=0.1659393310546875, workload='light', capabilities={'queries': True, 'collaboration': True, 'data_processing': True}, country=None)]"
      ]
     },
     "execution_count": 4,
     "metadata": {},
     "output_type": "execute_result"
    }
   ],
   "source": [
    "sa.ping_network(timeout=1)"
   ]
  },
  {
   "cell_type": "code",
   "execution_count": null,
   "id": "b8f25529-423f-4818-98d3-89310f7e5168",
   "metadata": {},
   "outputs": [],
   "source": []
  }
 ],
 "metadata": {
  "kernelspec": {
   "display_name": "Python 3 (ipykernel)",
   "language": "python",
   "name": "python3"
  },
  "language_info": {
   "codemirror_mode": {
    "name": "ipython",
    "version": 3
   },
   "file_extension": ".py",
   "mimetype": "text/x-python",
   "name": "python",
   "nbconvert_exporter": "python",
   "pygments_lexer": "ipython3",
   "version": "3.12.7"
  }
 },
 "nbformat": 4,
 "nbformat_minor": 5
}
